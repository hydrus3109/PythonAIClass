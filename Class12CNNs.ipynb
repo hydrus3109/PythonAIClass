{
  "nbformat": 4,
  "nbformat_minor": 0,
  "metadata": {
    "colab": {
      "provenance": []
    },
    "kernelspec": {
      "name": "python3",
      "display_name": "Python 3"
    },
    "language_info": {
      "name": "python"
    }
  },
  "cells": [
    {
      "cell_type": "code",
      "execution_count": 1,
      "metadata": {
        "id": "rswt419EjbZT"
      },
      "outputs": [],
      "source": [
        "import torch, torch.nn as nn, torch.optim as optim"
      ]
    },
    {
      "cell_type": "code",
      "source": [
        "from torch.utils.data import DataLoader\n",
        "from torchvision import datasets, transforms"
      ],
      "metadata": {
        "id": "kRvbFhcimw51"
      },
      "execution_count": 2,
      "outputs": []
    },
    {
      "cell_type": "code",
      "source": [
        "device = 'cuda' if torch.cuda.is_available() else 'cpu'"
      ],
      "metadata": {
        "id": "plnDonH_myPM"
      },
      "execution_count": 3,
      "outputs": []
    },
    {
      "cell_type": "code",
      "source": [
        "transform = transforms.Compose([\n",
        "    transforms.ToTensor(),\n",
        "    transforms.Normalize((0.1307,),(0.3081,))\n",
        "])\n",
        "train_ds = datasets.MNIST(\n",
        "    root = 'data',\n",
        "    train = True,\n",
        "    download = True,\n",
        "    transform = transform\n",
        ")\n",
        "test_ds = datasets.MNIST(\n",
        "    root = 'data',\n",
        "    train = False,\n",
        "    download = True,\n",
        "    transform = transform\n",
        ")"
      ],
      "metadata": {
        "colab": {
          "base_uri": "https://localhost:8080/"
        },
        "id": "t-GFTTRbm0kf",
        "outputId": "621b152a-2ae1-45de-ad13-e2d82903ce80"
      },
      "execution_count": 4,
      "outputs": [
        {
          "output_type": "stream",
          "name": "stderr",
          "text": [
            "100%|██████████| 9.91M/9.91M [00:00<00:00, 38.0MB/s]\n",
            "100%|██████████| 28.9k/28.9k [00:00<00:00, 1.14MB/s]\n",
            "100%|██████████| 1.65M/1.65M [00:00<00:00, 10.0MB/s]\n",
            "100%|██████████| 4.54k/4.54k [00:00<00:00, 4.63MB/s]\n"
          ]
        }
      ]
    },
    {
      "cell_type": "code",
      "source": [
        "train_loader = DataLoader(train_ds, batch_size = 64, shuffle = True)\n",
        "test_loader = DataLoader(test_ds, batch_size = 64, shuffle = False)"
      ],
      "metadata": {
        "id": "8ZJWgjXim3hJ"
      },
      "execution_count": 5,
      "outputs": []
    },
    {
      "cell_type": "code",
      "source": [
        "import matplotlib.pyplot as plt\n",
        "images, labels = next(iter(train_loader))\n",
        "print(images.size())\n",
        "images = images[:8].squeeze()\n",
        "fig, axes = plt.subplots(1,8,figsize=(12,2))\n",
        "for ax, img, lbl in zip(axes, images, labels):\n",
        "  ax.imshow(img, cmap = 'gray')\n",
        "  ax.set_title(lbl.item())\n",
        "  ax.axis('off')\n",
        "plt.show()"
      ],
      "metadata": {
        "colab": {
          "base_uri": "https://localhost:8080/",
          "height": 176
        },
        "id": "F8re9BGKm5pj",
        "outputId": "8576a6ee-fab1-4b7d-e2f6-64b5bef0da6a"
      },
      "execution_count": 6,
      "outputs": [
        {
          "output_type": "stream",
          "name": "stdout",
          "text": [
            "torch.Size([64, 1, 28, 28])\n"
          ]
        },
        {
          "output_type": "display_data",
          "data": {
            "text/plain": [
              "<Figure size 1200x200 with 8 Axes>"
            ],
            "image/png": "[encoded data removed]"
          },
          "metadata": {}
        }
      ]
    },
    {
      "cell_type": "code",
      "source": [
        "model = nn.Sequential(nn.Flatten(),nn.Linear(28*28,128), nn.ReLU(), nn.Linear(128,64), nn.ReLU(), nn.Linear(64,10)).to(device)\n",
        "criterion = nn.CrossEntropyLoss()\n",
        "optimizer = optim.SGD(model.parameters(), lr = 0.01)"
      ],
      "metadata": {
        "id": "DIMFur6fm7uA"
      },
      "execution_count": 7,
      "outputs": []
    },
    {
      "cell_type": "code",
      "source": [
        "class MLP(nn.Module):\n",
        "  def __init__(self, in_dim = 28*28, num_classes = 10):\n",
        "    super().__init__()\n",
        "    self.flatten = nn.Flatten()\n",
        "    self.fc1 = nn.Linear(in_dim, 128)\n",
        "    self.fc2 = nn.Linear(128, 64)\n",
        "    self.fc3 = nn.Linear(64, num_classes)\n",
        "\n",
        "  def forward(self, x):\n",
        "    x = self.flatten(x)\n",
        "    x = self.fc1(x)\n",
        "    x = nn.ReLU()(x)\n",
        "    x = self.fc2(x)\n",
        "    x = nn.ReLU()(x)\n",
        "    x = self.fc3(x)\n",
        "    return x\n",
        "\n",
        "model = MLP().to(device)\n",
        "criterion = nn.CrossEntropyLoss()\n",
        "optimizer = optim.SGD(model.parameters(), lr = 0.01)"
      ],
      "metadata": {
        "id": "6n9O4rrDpc1C"
      },
      "execution_count": 42,
      "outputs": []
    },
    {
      "cell_type": "markdown",
      "source": [
        "convolutional"
      ],
      "metadata": {
        "id": "JoNENeY5vWgZ"
      }
    },
    {
      "cell_type": "code",
      "source": [
        "class CNN(nn.Module):\n",
        "  def __init__(self, in_channels=1):\n",
        "    super().__init__()\n",
        "    self.conv1 = nn.Conv2d(in_channels, 16, kernel_size=3, stride=1,padding=2)\n",
        "    self.conv2 = nn.Conv2d(16, 32, kernel_size=3, stride=1,padding=1)\n",
        "    self.pool = nn.MaxPool2d(2)\n",
        "    self.fc1 = nn.Linear(1568, 128)\n",
        "    self.fc2 = nn.Linear(128, 10)\n",
        "  def forward(self, x):\n",
        "    x = self.conv1(x)\n",
        "    x = nn.ReLU()(x)\n",
        "    x = self.pool(x)\n",
        "    x = self.conv2(x)\n",
        "    x = nn.ReLU()(x)\n",
        "    x = self.pool(x)\n",
        "    x = x.view(-1, 1568)\n",
        "    #print(x.size())\n",
        "    x = self.fc1(x)\n",
        "    x = nn.ReLU()(x)\n",
        "    x = self.fc2(x)\n",
        "    return x\n",
        "\n",
        "model = CNN().to(device)\n",
        "criterion = nn.CrossEntropyLoss()\n",
        "optimizer = optim.SGD(model.parameters(), lr = 0.01)"
      ],
      "metadata": {
        "id": "Sr9cdX6WvSBu"
      },
      "execution_count": 43,
      "outputs": []
    },
    {
      "cell_type": "markdown",
      "source": [
        "0.2 0.3 0.1 0.3 0.5 0.7"
      ],
      "metadata": {
        "id": "Uq-lGfgvn6qV"
      }
    },
    {
      "cell_type": "code",
      "source": [
        "def train_epoch(model, loader):\n",
        "  model.train()\n",
        "  running_loss = 0\n",
        "  for X,y in loader:\n",
        "    X,y = X.to(device),y.to(device)\n",
        "    optimizer.zero_grad()\n",
        "    pred = model(X)\n",
        "    loss = criterion(pred, y)\n",
        "    loss.backward()\n",
        "    optimizer.step()\n",
        "    running_loss += loss.item()*X.size(0)\n",
        "  return running_loss/len(loader.dataset)\n",
        "\n",
        "def eval_epoch(model, loader):\n",
        "  model.eval()\n",
        "  correct = 0\n",
        "  with torch.no_grad():\n",
        "    for X, y in loader:\n",
        "      X, y = X.to(device), y.to(device)\n",
        "      pred = model(X)\n",
        "      prediction = pred.argmax(dim = 1)\n",
        "      correct += (prediction == y).sum().item()\n",
        "  return correct/len(loader.dataset)\n",
        "\n",
        "\n",
        "\n",
        "for epoch in range(5):\n",
        "  loss = train_epoch(model,train_loader)\n",
        "  accuracy = eval_epoch(model,test_loader)\n",
        "  print(f\"Epoch: {epoch+1}, Loss: {loss:.4f}, Accuracy: {accuracy}\")\n",
        "\n"
      ],
      "metadata": {
        "colab": {
          "base_uri": "https://localhost:8080/"
        },
        "id": "2jR1BAmYnF62",
        "outputId": "c51d6653-ad04-419c-f5af-784691dd9152"
      },
      "execution_count": null,
      "outputs": [
        {
          "output_type": "stream",
          "name": "stdout",
          "text": [
            "Epoch: 1, Loss: 0.6283, Accuracy: 0.9392\n",
            "Epoch: 2, Loss: 0.1710, Accuracy: 0.9584\n"
          ]
        }
      ]
    }
  ]
}