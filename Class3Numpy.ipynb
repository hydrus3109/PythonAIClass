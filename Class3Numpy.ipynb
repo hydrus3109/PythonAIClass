{
  "nbformat": 4,
  "nbformat_minor": 0,
  "metadata": {
    "colab": {
      "provenance": []
    },
    "kernelspec": {
      "name": "python3",
      "display_name": "Python 3"
    },
    "language_info": {
      "name": "python"
    }
  },
  "cells": [
    {
      "cell_type": "markdown",
      "source": [
        "Numpy"
      ],
      "metadata": {
        "id": "MnAbcAbjdqmS"
      }
    },
    {
      "cell_type": "code",
      "source": [
        "!pip install numpy"
      ],
      "metadata": {
        "colab": {
          "base_uri": "https://localhost:8080/"
        },
        "id": "XsdXucv4gZnU",
        "outputId": "515bd32b-08a1-44e6-cb7e-29aba1af6fc7"
      },
      "execution_count": 1,
      "outputs": [
        {
          "output_type": "stream",
          "name": "stdout",
          "text": [
            "Requirement already satisfied: numpy in /usr/local/lib/python3.11/dist-packages (2.0.2)\n"
          ]
        }
      ]
    },
    {
      "cell_type": "code",
      "execution_count": 2,
      "metadata": {
        "id": "Xh3G6UqSaoxt"
      },
      "outputs": [],
      "source": [
        "import numpy"
      ]
    },
    {
      "cell_type": "code",
      "source": [
        "numbers = [1,2,3,4,5]\n",
        "array = numpy.array(numbers)\n",
        "print(array)\n",
        "\n",
        "array = numpy.array([1,2,3,4,5,6])\n",
        "print(array)\n",
        "\n",
        "array = numpy.array((1,2,5,3,4))\n",
        "print(array)\n",
        "\n",
        "array = [n for n in range(1,10) if n%2 == 0]\n",
        "print(array)\n",
        "\n",
        "array2 = numpy.arange(1,10, 2)\n",
        "print(array2)\n",
        "\n",
        "zeros = numpy.zeros(26)\n",
        "print(zeros)\n",
        "\n"
      ],
      "metadata": {
        "colab": {
          "base_uri": "https://localhost:8080/"
        },
        "id": "iEa3mzHZg3FP",
        "outputId": "a05ef135-d0a2-40ba-faf4-b40796cb6c30"
      },
      "execution_count": 15,
      "outputs": [
        {
          "output_type": "stream",
          "name": "stdout",
          "text": [
            "[1 2 3 4 5]\n",
            "[1 2 3 4 5 6]\n",
            "[1 2 5 3 4]\n",
            "[2, 4, 6, 8]\n",
            "[1 3 5 7 9]\n",
            "[0. 0. 0. 0. 0. 0. 0. 0. 0. 0. 0. 0. 0. 0. 0. 0. 0. 0. 0. 0. 0. 0. 0. 0.\n",
            " 0. 0.]\n"
          ]
        }
      ]
    },
    {
      "cell_type": "markdown",
      "source": [
        "1 2 3 4\n",
        "3 4 5 6"
      ],
      "metadata": {
        "id": "yaO4Nyylix0K"
      }
    },
    {
      "cell_type": "code",
      "source": [
        "twod = [[1,2,3],[1,5,4]]\n",
        "\"\"\"\n",
        "1 2 3\n",
        "1 5 4\n",
        "\"\"\"\n",
        "\"\"\"\n",
        "1 2 3 4\n",
        "3 4 5 6\n",
        "\"\"\"\n",
        "numpyd = numpy.array(twod)\n",
        "\n",
        "print(numpyd[1][1])\n",
        "\n",
        "threed = numpy.array([[[1,3], [5,4], [3,5]],[[1,3], [5,4], [3,5]]] )\n",
        "print(threed)\n",
        "print(threed.ndim)\n",
        "array = numpy.array([1,2,3,4,1,4], ndmin = 4)\n",
        "print(array)\n",
        "print(array.ndim)\n",
        "\n"
      ],
      "metadata": {
        "colab": {
          "base_uri": "https://localhost:8080/"
        },
        "id": "pE9fhan3iqEo",
        "outputId": "85820df9-de80-4178-ce73-8f088f26f3aa"
      },
      "execution_count": 24,
      "outputs": [
        {
          "output_type": "stream",
          "name": "stdout",
          "text": [
            "5\n",
            "[[[1 3]\n",
            "  [5 4]\n",
            "  [3 5]]\n",
            "\n",
            " [[1 3]\n",
            "  [5 4]\n",
            "  [3 5]]]\n",
            "3\n",
            "[[[[1 2 3 4 1 4]]]]\n",
            "4\n"
          ]
        }
      ]
    },
    {
      "cell_type": "code",
      "source": [
        "twod = [[1,2,3,1,3,4],[1,5,4,1,4,4]]\n",
        "print(twod[1][-1])\n",
        "print(twod[0][:3])\n",
        "print(twod[:1][:3])\n",
        "\n",
        "print(twod[0][0:5:2])\n",
        "\n",
        "twod = numpy.array(twod)\n",
        "\n",
        "print(twod.shape)\n",
        "print(numpy.shape(twod))\n",
        "print(threed.shape)"
      ],
      "metadata": {
        "colab": {
          "base_uri": "https://localhost:8080/"
        },
        "id": "8K1rMyxTkfsG",
        "outputId": "43811e3e-dcbc-4647-8d7a-6efd60e2b94c"
      },
      "execution_count": 33,
      "outputs": [
        {
          "output_type": "stream",
          "name": "stdout",
          "text": [
            "4\n",
            "[1, 2, 3]\n",
            "[[1, 2, 3, 1, 3, 4]]\n",
            "[1, 3, 3]\n",
            "(2, 6)\n",
            "(2, 6)\n",
            "(2, 3, 2)\n"
          ]
        }
      ]
    },
    {
      "cell_type": "code",
      "source": [
        "\"\"\"\n",
        "newtwod = twod.reshape(6,2)\n",
        "print(newtwod)\n",
        "print(newtwod.shape)\n",
        "\n",
        "newtwod = twod.reshape(3,4)\n",
        "print(newtwod)\n",
        "print(newtwod.shape)\n",
        "\n",
        "#newtwod = twod.reshape(3,5)\n",
        "\n",
        "newtwod = twod.reshape(3,2,2)\n",
        "print(newtwod)\n",
        "print(newtwod.shape)\n",
        "\n",
        "newtwod = twod.reshape(3, -1)\n",
        "print(newtwod)\n",
        "print(newtwod.shape)\n",
        "\n",
        "twod = numpy.arange(20).reshape(4,5)\n",
        "print(twod)\n",
        "\"\"\"\n",
        "threed = twod.reshape(5,2,2)\n",
        "print(threed)"
      ],
      "metadata": {
        "colab": {
          "base_uri": "https://localhost:8080/"
        },
        "id": "_eFyRbP1lrhW",
        "outputId": "46455382-aad2-4961-c6f4-2f220fb9724c"
      },
      "execution_count": 42,
      "outputs": [
        {
          "output_type": "stream",
          "name": "stdout",
          "text": [
            "[[[ 0  1]\n",
            "  [ 2  3]]\n",
            "\n",
            " [[ 4  5]\n",
            "  [ 6  7]]\n",
            "\n",
            " [[ 8  9]\n",
            "  [10 11]]\n",
            "\n",
            " [[12 13]\n",
            "  [14 15]]\n",
            "\n",
            " [[16 17]\n",
            "  [18 19]]]\n"
          ]
        }
      ]
    },
    {
      "cell_type": "code",
      "source": [
        "newtwod = twod.copy()\n",
        "newtwod[0][0] = 200\n",
        "print(newtwod)\n",
        "print(twod)\n"
      ],
      "metadata": {
        "colab": {
          "base_uri": "https://localhost:8080/"
        },
        "id": "0iHaszOlnVUG",
        "outputId": "0b74a442-1295-44ab-e993-9f86a51290f4"
      },
      "execution_count": 46,
      "outputs": [
        {
          "output_type": "stream",
          "name": "stdout",
          "text": [
            "[[200   1   2   3   4]\n",
            " [  5   6   7   8   9]\n",
            " [ 10  11  12  13  14]\n",
            " [ 15  16  17  18  19]]\n",
            "[[100   1   2   3   4]\n",
            " [  5   6   7   8   9]\n",
            " [ 10  11  12  13  14]\n",
            " [ 15  16  17  18  19]]\n"
          ]
        }
      ]
    },
    {
      "cell_type": "code",
      "source": [
        "x = numpy.array([1,2,3])\n",
        "y = numpy.array([4,5,6])\n",
        "threed1 = numpy.array([[[1,3], [5,4], [3,5]],[[1,3], [5,4], [3,5]]] )\n",
        "threed2 = numpy.array([[[1,3], [5,4], [3,5]],[[1,3], [5,4], [3,5]]] )\n",
        "\n",
        "c = numpy.concatenate((x,y))\n",
        "\"\"\"\n",
        "print(c)\n",
        "v = numpy.vstack((x,y))\n",
        "print(v)\n",
        "h = numpy.hstack((x,y))\n",
        "print(h)\n",
        "threed3 = numpy.hstack((threed1, threed2))\n",
        "print(threed3)\n",
        "print(threed3.shape)\n",
        "threed3 = numpy.vstack((threed1, threed2))\n",
        "print(threed3)\n",
        "print(threed3.shape)\n",
        "\"\"\"\n",
        "\n",
        "c2 = numpy.concatenate((threed1, threed2), axis = 2)\n",
        "print(c2)\n",
        "print(c2.shape)\n",
        "\n",
        "twod = numpy.array([[1,2,3,1,3,4],[1,5,4,1,4,4]])\n",
        "twod2 = numpy.array([[1,2,3,1,3,4],[1,5,4,1,4,4]])\n",
        "\n",
        "twod3 = numpy.hstack((twod, twod2))\n",
        "print(twod3)\n",
        "print(twod3.shape)\n",
        "\n",
        "(2, 3)\n",
        "twod3 = numpy.concatenate((twod,twod2), axis = -1)\n",
        "print(twod3)\n",
        "print(twod3.shape)\n",
        "\n",
        "\n"
      ],
      "metadata": {
        "colab": {
          "base_uri": "https://localhost:8080/"
        },
        "id": "bG8w-wyrnqH5",
        "outputId": "f9bc3475-5023-4e94-d62d-a3424dd615e3"
      },
      "execution_count": 59,
      "outputs": [
        {
          "output_type": "stream",
          "name": "stdout",
          "text": [
            "[[[1 3 1 3]\n",
            "  [5 4 5 4]\n",
            "  [3 5 3 5]]\n",
            "\n",
            " [[1 3 1 3]\n",
            "  [5 4 5 4]\n",
            "  [3 5 3 5]]]\n",
            "(2, 3, 4)\n",
            "[[1 2 3 1 3 4 1 2 3 1 3 4]\n",
            " [1 5 4 1 4 4 1 5 4 1 4 4]]\n",
            "(2, 12)\n",
            "[[1 2 3 1 3 4]\n",
            " [1 5 4 1 4 4]\n",
            " [1 2 3 1 3 4]\n",
            " [1 5 4 1 4 4]]\n",
            "(4, 6)\n"
          ]
        }
      ]
    },
    {
      "cell_type": "code",
      "source": [
        "long = numpy.arange(100)\n",
        "smaller = numpy.array(numpy.array_split(long,4))\n",
        "print(smaller)\n",
        "print(smaller.shape)\n",
        "print(smaller[0])\n",
        "long2d = numpy.arange(100).reshape(2, 50)\n",
        "\n",
        "smaller2d = numpy.array(numpy.array_split(long2d, 2))\n",
        "print(smaller2d)\n",
        "print(smaller2d.shape)\n"
      ],
      "metadata": {
        "colab": {
          "base_uri": "https://localhost:8080/"
        },
        "id": "K0AzRaHSqDeb",
        "outputId": "9858971f-9140-4482-f90f-bd9b5edc97cf"
      },
      "execution_count": 67,
      "outputs": [
        {
          "output_type": "stream",
          "name": "stdout",
          "text": [
            "[[ 0  1  2  3  4  5  6  7  8  9 10 11 12 13 14 15 16 17 18 19 20 21 22 23\n",
            "  24]\n",
            " [25 26 27 28 29 30 31 32 33 34 35 36 37 38 39 40 41 42 43 44 45 46 47 48\n",
            "  49]\n",
            " [50 51 52 53 54 55 56 57 58 59 60 61 62 63 64 65 66 67 68 69 70 71 72 73\n",
            "  74]\n",
            " [75 76 77 78 79 80 81 82 83 84 85 86 87 88 89 90 91 92 93 94 95 96 97 98\n",
            "  99]]\n",
            "(4, 25)\n",
            "[ 0  1  2  3  4  5  6  7  8  9 10 11 12 13 14 15 16 17 18 19 20 21 22 23\n",
            " 24]\n",
            "[[[ 0  1  2  3  4  5  6  7  8  9 10 11 12 13 14 15 16 17 18 19 20 21 22\n",
            "   23 24 25 26 27 28 29 30 31 32 33 34 35 36 37 38 39 40 41 42 43 44 45\n",
            "   46 47 48 49]]\n",
            "\n",
            " [[50 51 52 53 54 55 56 57 58 59 60 61 62 63 64 65 66 67 68 69 70 71 72\n",
            "   73 74 75 76 77 78 79 80 81 82 83 84 85 86 87 88 89 90 91 92 93 94 95\n",
            "   96 97 98 99]]]\n",
            "(2, 1, 50)\n"
          ]
        }
      ]
    },
    {
      "cell_type": "code",
      "source": [
        "array = numpy.array([1,6,2,8,1,5,4])\n",
        "print(numpy.sort(array))"
      ],
      "metadata": {
        "colab": {
          "base_uri": "https://localhost:8080/"
        },
        "id": "7zh_mBvWrM_j",
        "outputId": "c25c0c7e-1b0f-4deb-b97b-8e2ac29e20e4"
      },
      "execution_count": 69,
      "outputs": [
        {
          "output_type": "stream",
          "name": "stdout",
          "text": [
            "[1 1 2 4 5 6 8]\n"
          ]
        }
      ]
    },
    {
      "cell_type": "code",
      "source": [
        "twod = numpy.array([[1,-2,3,-1,3,4],[1,5,-4,1,4,-4]])\n",
        "print(numpy.sort(twod))\n",
        "\n",
        "print(numpy.where(twod < 0))\n",
        "print(numpy.where(twod %3 == 0))"
      ],
      "metadata": {
        "colab": {
          "base_uri": "https://localhost:8080/"
        },
        "id": "-valGsJNrZ5L",
        "outputId": "01cb8292-9dcc-4730-f872-eca08870db4d"
      },
      "execution_count": 75,
      "outputs": [
        {
          "output_type": "stream",
          "name": "stdout",
          "text": [
            "[[-2 -1  1  3  3  4]\n",
            " [-4 -4  1  1  4  5]]\n",
            "(array([0, 0, 1, 1]), array([1, 3, 2, 5]))\n",
            "(array([0, 0]), array([2, 4]))\n"
          ]
        }
      ]
    },
    {
      "cell_type": "code",
      "source": [
        "twod = numpy.array([[1,-2,3,-1,3,4],[1,5,-4,1,4,-4]])\n",
        "\n",
        "filter = twod < 0\n",
        "\n",
        "newarr = twod[filter]\n",
        "print(newarr)\n",
        "array = numpy.array([ 1, 5, 3, 10])\n",
        "filter = [False, True, False, False]\n",
        "newarr = array[filter]\n",
        "print(newarr)\n",
        "\n"
      ],
      "metadata": {
        "colab": {
          "base_uri": "https://localhost:8080/"
        },
        "id": "JXHy1zn-sUwA",
        "outputId": "d6c63e1f-e0cd-4286-f581-7de5dbd44d4e"
      },
      "execution_count": 78,
      "outputs": [
        {
          "output_type": "stream",
          "name": "stdout",
          "text": [
            "[-2 -1 -4 -4]\n",
            "[5]\n"
          ]
        }
      ]
    }
  ]
}