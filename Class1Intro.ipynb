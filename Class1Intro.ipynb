{
  "nbformat": 4,
  "nbformat_minor": 0,
  "metadata": {
    "colab": {
      "provenance": []
    },
    "kernelspec": {
      "name": "python3",
      "display_name": "Python 3"
    },
    "language_info": {
      "name": "python"
    }
  },
  "cells": [
    {
      "cell_type": "code",
      "execution_count": 3,
      "metadata": {
        "colab": {
          "base_uri": "https://localhost:8080/"
        },
        "id": "PGJf3cdsart0",
        "outputId": "56322329-f74e-4475-f91d-ffe0619dc5fd"
      },
      "outputs": [
        {
          "output_type": "stream",
          "name": "stdout",
          "text": [
            "hello world\n"
          ]
        }
      ],
      "source": [
        "print(\"hello world\")"
      ]
    },
    {
      "cell_type": "markdown",
      "source": [
        "this is what im doing\n"
      ],
      "metadata": {
        "id": "KGm_b1nXlKWX"
      }
    },
    {
      "cell_type": "code",
      "source": [
        "x = 5"
      ],
      "metadata": {
        "id": "lyOyAEp1lMKG"
      },
      "execution_count": 4,
      "outputs": []
    },
    {
      "cell_type": "code",
      "source": [
        "print(x+4)"
      ],
      "metadata": {
        "colab": {
          "base_uri": "https://localhost:8080/"
        },
        "id": "W524rtO8lPYD",
        "outputId": "0c436c41-d4eb-4bc7-bb4a-5916e225ed8d"
      },
      "execution_count": 5,
      "outputs": [
        {
          "output_type": "stream",
          "name": "stdout",
          "text": [
            "9\n"
          ]
        }
      ]
    },
    {
      "cell_type": "code",
      "source": [
        "x = \"john\"\n",
        "y = 5.0\n",
        "z = \"1234\"\n",
        "z = str(1234)\n",
        "a = 5.0\n",
        "print(type(a))\n",
        "print(z)\n",
        "print(type(z))"
      ],
      "metadata": {
        "colab": {
          "base_uri": "https://localhost:8080/"
        },
        "id": "O8zi5N0HloBR",
        "outputId": "5d96eb06-ee7e-4c19-f3a5-d361ca7a9985"
      },
      "execution_count": 9,
      "outputs": [
        {
          "output_type": "stream",
          "name": "stdout",
          "text": [
            "<class 'float'>\n",
            "1234\n",
            "<class 'str'>\n"
          ]
        }
      ]
    },
    {
      "cell_type": "code",
      "source": [
        "# list, dynamic\n",
        "x = ['a','b','c', 'a']\n",
        "# tuple, static\n",
        "x = ('a','b','c')\n",
        "#set\n",
        "x = {\"apple\", \"banana\", \"c\"}"
      ],
      "metadata": {
        "id": "Yg7jv1qwmU0p"
      },
      "execution_count": null,
      "outputs": []
    },
    {
      "cell_type": "markdown",
      "source": [],
      "metadata": {
        "id": "jDzCDa0DnQG0"
      }
    },
    {
      "cell_type": "code",
      "source": [
        "\"\"\"\n",
        "asdf\n",
        "asdfasdf\n",
        "asdfasdf\n",
        "\"\"\"\n",
        "print(\"hi\")\n",
        "x = 5\n",
        "if x > 4:\n",
        "  print(\"hey\")"
      ],
      "metadata": {
        "colab": {
          "base_uri": "https://localhost:8080/"
        },
        "id": "XlLmgDHym7o8",
        "outputId": "9e7a9898-e9f4-4301-8240-282009e8f08f"
      },
      "execution_count": 14,
      "outputs": [
        {
          "output_type": "stream",
          "name": "stdout",
          "text": [
            "hi\n",
            "hey\n"
          ]
        }
      ]
    },
    {
      "cell_type": "code",
      "source": [
        "x = [1,2,3,4,5]\n",
        "print(x[0])\n",
        "print(x[1])\n",
        "print(x[3])\n",
        "\n",
        "x = \"Thequickbrownfox\"\n",
        "print(x[2])\n",
        "print(x[:3])\n",
        "print(x[3:])\n",
        "print(x[-2])\n",
        "print(x[2:5])\n"
      ],
      "metadata": {
        "colab": {
          "base_uri": "https://localhost:8080/"
        },
        "id": "nfzFEkb1ncIG",
        "outputId": "cb2853e8-18b1-403a-9dcb-4a9e2de35a68"
      },
      "execution_count": 21,
      "outputs": [
        {
          "output_type": "stream",
          "name": "stdout",
          "text": [
            "1\n",
            "2\n",
            "4\n",
            "e\n",
            "The\n",
            "quickbrownfox\n",
            "o\n",
            "equ\n"
          ]
        }
      ]
    },
    {
      "cell_type": "code",
      "source": [
        "x = \"thequickbrownfox\"\n",
        "print(x[:3])\n",
        "print(x[3:8])\n",
        "print(x[8:13])\n",
        "print(x[13:16])\n",
        "x=\"iwanttowatchloveisland\"\n",
        "print(x[:5])\n",
        "print(x[5])\n",
        "print(x[6:9])\n",
        "print(x[9:])\n",
        "x = \"thecutebunny\"\n",
        "print(x[:3])\n",
        "print(x[3:7])\n",
        "print(x[7:12])\n",
        "print(x[100])"
      ],
      "metadata": {
        "colab": {
          "base_uri": "https://localhost:8080/",
          "height": 367
        },
        "id": "dOB1TK4islT5",
        "outputId": "a7942e44-c5c4-4ba2-a997-b6846e264242"
      },
      "execution_count": 33,
      "outputs": [
        {
          "output_type": "stream",
          "name": "stdout",
          "text": [
            "the\n",
            "quick\n",
            "brown\n",
            "fox\n",
            "iwant\n",
            "t\n",
            "owa\n",
            "tchloveisland\n",
            "the\n",
            "cute\n",
            "bunny\n"
          ]
        },
        {
          "output_type": "error",
          "ename": "IndexError",
          "evalue": "string index out of range",
          "traceback": [
            "\u001b[0;31m---------------------------------------------------------------------------\u001b[0m",
            "\u001b[0;31mIndexError\u001b[0m                                Traceback (most recent call last)",
            "\u001b[0;32m<ipython-input-33-763846559>\u001b[0m in \u001b[0;36m<cell line: 0>\u001b[0;34m()\u001b[0m\n\u001b[1;32m     13\u001b[0m \u001b[0mprint\u001b[0m\u001b[0;34m(\u001b[0m\u001b[0mx\u001b[0m\u001b[0;34m[\u001b[0m\u001b[0;36m3\u001b[0m\u001b[0;34m:\u001b[0m\u001b[0;36m7\u001b[0m\u001b[0;34m]\u001b[0m\u001b[0;34m)\u001b[0m\u001b[0;34m\u001b[0m\u001b[0;34m\u001b[0m\u001b[0m\n\u001b[1;32m     14\u001b[0m \u001b[0mprint\u001b[0m\u001b[0;34m(\u001b[0m\u001b[0mx\u001b[0m\u001b[0;34m[\u001b[0m\u001b[0;36m7\u001b[0m\u001b[0;34m:\u001b[0m\u001b[0;36m12\u001b[0m\u001b[0;34m]\u001b[0m\u001b[0;34m)\u001b[0m\u001b[0;34m\u001b[0m\u001b[0;34m\u001b[0m\u001b[0m\n\u001b[0;32m---> 15\u001b[0;31m \u001b[0mprint\u001b[0m\u001b[0;34m(\u001b[0m\u001b[0mx\u001b[0m\u001b[0;34m[\u001b[0m\u001b[0;36m100\u001b[0m\u001b[0;34m]\u001b[0m\u001b[0;34m)\u001b[0m\u001b[0;34m\u001b[0m\u001b[0;34m\u001b[0m\u001b[0m\n\u001b[0m",
            "\u001b[0;31mIndexError\u001b[0m: string index out of range"
          ]
        }
      ]
    },
    {
      "cell_type": "code",
      "source": [
        "a = 4\n",
        "b = 5\n",
        "print(a+b)\n",
        "print(a*b)\n",
        "print(a/b)\n",
        "print(a%b)\n",
        "print(a**b)\n",
        "print(a==b)\n",
        "print(a!=b)\n",
        "print(a>b)\n",
        "print(a>=b)"
      ],
      "metadata": {
        "colab": {
          "base_uri": "https://localhost:8080/"
        },
        "id": "vf-uvyTroVBL",
        "outputId": "c0aa18af-1fd9-481a-9df5-f944f2b59263"
      },
      "execution_count": 22,
      "outputs": [
        {
          "output_type": "stream",
          "name": "stdout",
          "text": [
            "9\n",
            "20\n",
            "0.8\n",
            "4\n",
            "1024\n"
          ]
        }
      ]
    },
    {
      "cell_type": "code",
      "source": [
        "if (x > 4):\n",
        "  print(\"hi\")\n",
        "elif x == 4:\n",
        "  print(\"yes\")\n",
        "else:\n",
        "  print(\"else\")"
      ],
      "metadata": {
        "id": "fO1fkzjpoxJF"
      },
      "execution_count": null,
      "outputs": []
    },
    {
      "cell_type": "code",
      "source": [
        "for i in range(5):\n",
        "  print(\"hi\")\n",
        "\n",
        "list1 = [1,22,3,4]\n",
        "for i in list1:\n",
        "  print(i)\n",
        "x = -2\n",
        "while x < 0:\n",
        "  x = x+1\n",
        "  print(x)"
      ],
      "metadata": {
        "colab": {
          "base_uri": "https://localhost:8080/"
        },
        "id": "RTFc4g1bpNEK",
        "outputId": "1cc557bc-081b-4c0e-ca21-31cb6dec15e8"
      },
      "execution_count": 25,
      "outputs": [
        {
          "output_type": "stream",
          "name": "stdout",
          "text": [
            "hi\n",
            "hi\n",
            "hi\n",
            "hi\n",
            "hi\n",
            "1\n",
            "22\n",
            "3\n",
            "4\n",
            "-1\n",
            "0\n"
          ]
        }
      ]
    },
    {
      "cell_type": "code",
      "source": [
        "array = [1,2,3,4]\n",
        "x = 1\n",
        "for i in range(4):\n",
        "  array[i] = array[i]+x\n",
        "  x = x+2\n",
        "for i in array:\n",
        "  print(i)"
      ],
      "metadata": {
        "colab": {
          "base_uri": "https://localhost:8080/"
        },
        "id": "MXU-SkoNqQOT",
        "outputId": "5fd5b452-f8b5-4e84-db18-c04245ea4598"
      },
      "execution_count": 27,
      "outputs": [
        {
          "output_type": "stream",
          "name": "stdout",
          "text": [
            "2\n",
            "5\n",
            "8\n",
            "11\n"
          ]
        }
      ]
    },
    {
      "cell_type": "code",
      "source": [
        "list2 = [1, 23, 45, 2, 38]\n",
        "for i in list2:\n",
        "  x = i + 1\n",
        "  print(i + x)"
      ],
      "metadata": {
        "colab": {
          "base_uri": "https://localhost:8080/"
        },
        "id": "769iJEB4rLoY",
        "outputId": "1a5566a7-dcbf-4457-8dbd-1d3df3ad7115"
      },
      "execution_count": 28,
      "outputs": [
        {
          "output_type": "stream",
          "name": "stdout",
          "text": [
            "3\n",
            "47\n",
            "91\n",
            "5\n",
            "77\n"
          ]
        }
      ]
    }
  ]
}