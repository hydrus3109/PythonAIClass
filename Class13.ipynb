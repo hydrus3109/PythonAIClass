{
  "nbformat": 4,
  "nbformat_minor": 0,
  "metadata": {
    "colab": {
      "provenance": [],
      "machine_shape": "hm",
      "gpuType": "L4"
    },
    "kernelspec": {
      "name": "python3",
      "display_name": "Python 3"
    },
    "language_info": {
      "name": "python"
    },
    "accelerator": "GPU"
  },
  "cells": [
    {
      "cell_type": "code",
      "execution_count": 1,
      "metadata": {
        "id": "UuGbuuhiKLeT"
      },
      "outputs": [],
      "source": [
        "import torch, torch.nn as nn, torch.optim as optim"
      ]
    },
    {
      "cell_type": "code",
      "source": [
        "from torch.utils.data import DataLoader\n",
        "from torchvision import datasets, transforms"
      ],
      "metadata": {
        "id": "yYCMxn1QNYFs"
      },
      "execution_count": 2,
      "outputs": []
    },
    {
      "cell_type": "code",
      "source": [
        "device = 'cuda' if torch.cuda.is_available() else 'cpu'"
      ],
      "metadata": {
        "id": "ddJPhNTINaYE"
      },
      "execution_count": 3,
      "outputs": []
    },
    {
      "cell_type": "code",
      "source": [
        "transform = transforms.Compose([\n",
        "    transforms.ToTensor(),\n",
        "    transforms.Normalize((0.1307,),(0.3081,))\n",
        "])\n",
        "train_ds = datasets.MNIST(\n",
        "    root = 'data',\n",
        "    train = True,\n",
        "    download = True,\n",
        "    transform = transform\n",
        ")\n",
        "test_ds = datasets.MNIST(\n",
        "    root = 'data',\n",
        "    train = False,\n",
        "    download = True,\n",
        "    transform = transform\n",
        ")"
      ],
      "metadata": {
        "colab": {
          "base_uri": "https://localhost:8080/"
        },
        "id": "IqVnQAAFNb0O",
        "outputId": "c65d3c8d-ed4f-4f7d-93eb-35877c96be04"
      },
      "execution_count": 4,
      "outputs": [
        {
          "output_type": "stream",
          "name": "stderr",
          "text": [
            "100%|██████████| 9.91M/9.91M [00:01<00:00, 4.96MB/s]\n",
            "100%|██████████| 28.9k/28.9k [00:00<00:00, 130kB/s]\n",
            "100%|██████████| 1.65M/1.65M [00:01<00:00, 1.27MB/s]\n",
            "100%|██████████| 4.54k/4.54k [00:00<00:00, 9.83MB/s]\n"
          ]
        }
      ]
    },
    {
      "cell_type": "code",
      "source": [
        "train_loader = DataLoader(train_ds, batch_size = 64, shuffle = True)\n",
        "test_loader = DataLoader(test_ds, batch_size = 64, shuffle = False)"
      ],
      "metadata": {
        "id": "T49NhC16Nv82"
      },
      "execution_count": 11,
      "outputs": []
    },
    {
      "cell_type": "code",
      "source": [
        "train_loader = DataLoader(train_cifar, batch_size = 64, shuffle = True)\n",
        "test_loader = DataLoader(test_cifar, batch_size = 64, shuffle = False)"
      ],
      "metadata": {
        "id": "z1lvy-w2WyUX"
      },
      "execution_count": 22,
      "outputs": []
    },
    {
      "cell_type": "code",
      "source": [
        "import matplotlib.pyplot as plt\n",
        "images, labels = next(iter(train_loader))\n",
        "print(images.size())\n",
        "images = images[:8].squeeze()\n",
        "fig, axes = plt.subplots(1,8,figsize=(12,2))\n",
        "for ax, img, lbl in zip(axes, images, labels):\n",
        "  ax.imshow(img.permute(1,2,0))\n",
        "  ax.set_title(lbl.item())\n",
        "  ax.axis('off')\n",
        "plt.show()"
      ],
      "metadata": {
        "colab": {
          "base_uri": "https://localhost:8080/",
          "height": 314
        },
        "id": "HZy9jnI4N48_",
        "outputId": "0d3700c8-9155-4c89-d08e-1c200e33d94d"
      },
      "execution_count": 29,
      "outputs": [
        {
          "output_type": "stream",
          "name": "stderr",
          "text": [
            "WARNING:matplotlib.image:Clipping input data to the valid range for imshow with RGB data ([0..1] for floats or [0..255] for integers). Got range [-1.0..0.99215686].\n",
            "WARNING:matplotlib.image:Clipping input data to the valid range for imshow with RGB data ([0..1] for floats or [0..255] for integers). Got range [-1.0..0.6156863].\n",
            "WARNING:matplotlib.image:Clipping input data to the valid range for imshow with RGB data ([0..1] for floats or [0..255] for integers). Got range [-1.0..0.427451].\n",
            "WARNING:matplotlib.image:Clipping input data to the valid range for imshow with RGB data ([0..1] for floats or [0..255] for integers). Got range [-1.0..1.0].\n",
            "WARNING:matplotlib.image:Clipping input data to the valid range for imshow with RGB data ([0..1] for floats or [0..255] for integers). Got range [-1.0..1.0].\n",
            "WARNING:matplotlib.image:Clipping input data to the valid range for imshow with RGB data ([0..1] for floats or [0..255] for integers). Got range [-1.0..0.9372549].\n",
            "WARNING:matplotlib.image:Clipping input data to the valid range for imshow with RGB data ([0..1] for floats or [0..255] for integers). Got range [-1.0..1.0].\n",
            "WARNING:matplotlib.image:Clipping input data to the valid range for imshow with RGB data ([0..1] for floats or [0..255] for integers). Got range [-1.0..0.6862745].\n"
          ]
        },
        {
          "output_type": "stream",
          "name": "stdout",
          "text": [
            "torch.Size([64, 3, 32, 32])\n"
          ]
        },
        {
          "output_type": "display_data",
          "data": {
            "text/plain": [
              "<Figure size 1200x200 with 8 Axes>"
            ],
            "image/png": "[encoded data removed]"
          },
          "metadata": {}
        }
      ]
    },
    {
      "cell_type": "code",
      "source": [],
      "metadata": {
        "id": "3SzXcLr2PsDW"
      },
      "execution_count": null,
      "outputs": []
    },
    {
      "cell_type": "code",
      "source": [
        "nn.Conv2d()\n",
        "nn.Linear()"
      ],
      "metadata": {
        "id": "bSLR5oReOLuK"
      },
      "execution_count": null,
      "outputs": []
    },
    {
      "cell_type": "code",
      "source": [
        "class MLP(nn.Module):\n",
        "  def __init__(self):\n",
        "    super().__init__()\n",
        "    self.flatten = nn.Flatten()\n",
        "    self.fc1 = nn.Linear(in_dim, 128)\n",
        "    self.fc2 = nn.Linear(128, 64)\n",
        "    self.fc3 = nn.Linear(64, num_classes)\n",
        "\n",
        "  def forward(self, x):\n",
        "    x = self.flatten(x)\n",
        "    x = self.fc1(x)\n",
        "    x = nn.ReLU()(x)\n",
        "    x = self.fc2(x)\n",
        "    x = nn.ReLU()(x)\n",
        "    x = self.fc3(x)\n",
        "    return x\n",
        "\n",
        "model = MLP().to(device)\n",
        "criterion = nn.CrossEntropyLoss()\n",
        "optimizer = optim.SGD(model.parameters(), lr = 0.01)"
      ],
      "metadata": {
        "id": "58eC-3aPN6Tx"
      },
      "execution_count": null,
      "outputs": []
    },
    {
      "cell_type": "code",
      "source": [
        "class CNN(nn.Module):\n",
        "  def __init__(self, in_channels=1):\n",
        "    super().__init__()\n",
        "    self.conv1 = nn.Conv2d(in_channels, 16, kernel_size=3, stride=1,padding=2)\n",
        "    self.conv2 = nn.Conv2d(16, 32, kernel_size=3, stride=1,padding=1)\n",
        "    self.pool = nn.MaxPool2d(2)\n",
        "    self.fc1 = nn.Linear(1568, 128)\n",
        "    self.fc2 = nn.Linear(128, 10)\n",
        "  def forward(self, x):\n",
        "    x = self.conv1(x)\n",
        "    x = nn.ReLU()(x)\n",
        "    x = self.pool(x)\n",
        "    x = self.conv2(x)\n",
        "    x = nn.ReLU()(x)\n",
        "    x = self.pool(x)\n",
        "    x = x.view(-1, 1568)\n",
        "    #print(x.size())\n",
        "    x = self.fc1(x)\n",
        "    x = nn.ReLU()(x)\n",
        "    x = self.fc2(x)\n",
        "    return x\n",
        "\n",
        "model = CNN().to(device)\n",
        "criterion = nn.CrossEntropyLoss()\n",
        "optimizer = optim.SGD(model.parameters(), lr = 0.01)"
      ],
      "metadata": {
        "id": "g4a4x1tFN-Om"
      },
      "execution_count": 6,
      "outputs": []
    },
    {
      "cell_type": "code",
      "source": [
        "model = nn.Sequential(nn.Conv2d(1, 16, kernel_size=3, stride=1,padding=2), nn.Flatten(),nn.Linear(28*28,128), nn.ReLU(), nn.Linear(128,64), nn.ReLU(), nn.Linear(64,10)).to(device)"
      ],
      "metadata": {
        "id": "sTqt0CyyQuq_"
      },
      "execution_count": null,
      "outputs": []
    },
    {
      "cell_type": "code",
      "source": [
        "def function(x):\n",
        "  return x**2"
      ],
      "metadata": {
        "id": "RoAnk9DbS1hI"
      },
      "execution_count": null,
      "outputs": []
    },
    {
      "cell_type": "code",
      "source": [
        "(128, 1, 28, 28)\n",
        "(128, 32, 28, 28)"
      ],
      "metadata": {
        "id": "IJ_0H8YCTUm3"
      },
      "execution_count": null,
      "outputs": []
    },
    {
      "cell_type": "code",
      "source": [
        "transform = transforms.Compose([\n",
        "    transforms.RandomHorizontalFlip(),\n",
        "    transforms.RandomCrop(32,padding = 4),\n",
        "    transforms.ToTensor(),\n",
        "    transforms.Normalize((0.5,0.5,0.5),(0.5,0.5,0.5))\n",
        "])"
      ],
      "metadata": {
        "id": "3HRTE7apVZfd"
      },
      "execution_count": 20,
      "outputs": []
    },
    {
      "cell_type": "code",
      "source": [
        "train_cifar = datasets.CIFAR10(\n",
        "    root = 'data',\n",
        "    train = True,\n",
        "    download = True,\n",
        "    transform = transform\n",
        ")\n",
        "test_cifar = datasets.CIFAR10(\n",
        "    root = 'data',\n",
        "    train = False,\n",
        "    download = True,\n",
        "    transform = transform\n",
        ")"
      ],
      "metadata": {
        "id": "4SH6FXj4VCvf"
      },
      "execution_count": 21,
      "outputs": []
    },
    {
      "cell_type": "code",
      "source": [
        "0.1 0.3 0.9 0.9 0 0.2 0.5 0 0.6 0.1"
      ],
      "metadata": {
        "id": "FopB648RYG5I"
      },
      "execution_count": null,
      "outputs": []
    },
    {
      "cell_type": "code",
      "source": [
        "class CNN2(nn.Module):\n",
        "  def __init__(self):\n",
        "    super().__init__()\n",
        "    self.conv1 = nn.Conv2d(3, 32, kernel_size = 3, stride =1, padding =2)\n",
        "    self.conv2 = nn.Conv2d(32, 64, kernel_size = 3, stride =1, padding =2)\n",
        "    self.conv3 = nn.Conv2d(64, 128, kernel_size = 3, stride =1, padding =2)\n",
        "    self.fc1 = nn.Linear(3200, 256)\n",
        "    self.fc2 = nn.Linear(256, 10)\n",
        "    self.pool = nn.MaxPool2d(2)\n",
        "    self.dropout = nn.Dropout(0.2)\n",
        "\n",
        "  def forward(self, x):\n",
        "    x = self.conv1(x)\n",
        "    x = nn.ReLU()(x)\n",
        "    x = self.pool(x)\n",
        "    #print(x.size())\n",
        "    x = self.conv2(x)\n",
        "    x = nn.ReLU()(x)\n",
        "    x = self.pool(x)\n",
        "   # print(x.size())\n",
        "    x = self.conv3(x)\n",
        "    x = nn.ReLU()(x)\n",
        "    x = self.pool(x)\n",
        "    #print(x.size())\n",
        "    x = x.view(-1, 3200)\n",
        "    x = self.fc1(x)\n",
        "    x = nn.ReLU()(x)\n",
        "    x = self.fc2(x)\n",
        "    x = self.dropout(x)\n",
        "    return x\n",
        "\n",
        "model = CNN2().to(device)\n",
        "criterion = nn.CrossEntropyLoss()\n",
        "optimizer = optim.SGD(model.parameters(), lr = 0.01)\n",
        "\n",
        "\n",
        "\n",
        "\n",
        "\n",
        "\n"
      ],
      "metadata": {
        "id": "QRI9PjVjPJ1O"
      },
      "execution_count": 26,
      "outputs": []
    },
    {
      "cell_type": "code",
      "source": [
        "def train_epoch(model, loader):\n",
        "  model.train()\n",
        "  running_loss = 0\n",
        "  for X,y in loader:\n",
        "    X,y = X.to(device),y.to(device)\n",
        "    optimizer.zero_grad()\n",
        "    pred = model(X)\n",
        "    loss = criterion(pred, y)\n",
        "    loss.backward()\n",
        "    optimizer.step()\n",
        "    running_loss += loss.item()*X.size(0)\n",
        "  return running_loss/len(loader.dataset)\n",
        "\n",
        "def eval_epoch(model, loader):\n",
        "  model.eval()\n",
        "  correct = 0\n",
        "  with torch.no_grad():\n",
        "    for X, y in loader:\n",
        "      X, y = X.to(device), y.to(device)\n",
        "      pred = model(X)\n",
        "      prediction = pred.argmax(dim = 1)\n",
        "      correct += (prediction == y).sum().item()\n",
        "  return correct/len(loader.dataset)\n",
        "\n",
        "\n",
        "\n",
        "for epoch in range(20):\n",
        "  loss = train_epoch(model,train_loader)\n",
        "  accuracy = eval_epoch(model,test_loader)\n",
        "  print(f\"Epoch: {epoch+1}, Loss: {loss:.4f}, Accuracy: {accuracy}\")\n",
        "\n"
      ],
      "metadata": {
        "colab": {
          "base_uri": "https://localhost:8080/"
        },
        "id": "bKhcbKQPUg4p",
        "outputId": "28e32592-52ac-48d6-e86a-da97a235e61d"
      },
      "execution_count": 30,
      "outputs": [
        {
          "output_type": "stream",
          "name": "stdout",
          "text": [
            "Epoch: 1, Loss: 1.3278, Accuracy: 0.437\n",
            "Epoch: 2, Loss: 1.2841, Accuracy: 0.5123\n",
            "Epoch: 3, Loss: 1.2348, Accuracy: 0.5133\n",
            "Epoch: 4, Loss: 1.1969, Accuracy: 0.4942\n",
            "Epoch: 5, Loss: 1.1621, Accuracy: 0.5468\n",
            "Epoch: 6, Loss: 1.1212, Accuracy: 0.5431\n",
            "Epoch: 7, Loss: 1.0869, Accuracy: 0.5949\n",
            "Epoch: 8, Loss: 1.0623, Accuracy: 0.6169\n",
            "Epoch: 9, Loss: 1.0342, Accuracy: 0.6392\n",
            "Epoch: 10, Loss: 1.0060, Accuracy: 0.5966\n",
            "Epoch: 11, Loss: 0.9794, Accuracy: 0.6183\n",
            "Epoch: 12, Loss: 0.9585, Accuracy: 0.6491\n",
            "Epoch: 13, Loss: 0.9318, Accuracy: 0.6413\n",
            "Epoch: 14, Loss: 0.9105, Accuracy: 0.6715\n",
            "Epoch: 15, Loss: 0.8901, Accuracy: 0.6782\n",
            "Epoch: 16, Loss: 0.8742, Accuracy: 0.6688\n",
            "Epoch: 17, Loss: 0.8580, Accuracy: 0.6497\n",
            "Epoch: 18, Loss: 0.8413, Accuracy: 0.6802\n",
            "Epoch: 19, Loss: 0.8212, Accuracy: 0.6422\n",
            "Epoch: 20, Loss: 0.8087, Accuracy: 0.6457\n"
          ]
        }
      ]
    }
  ]
}