{
  "nbformat": 4,
  "nbformat_minor": 0,
  "metadata": {
    "colab": {
      "provenance": []
    },
    "kernelspec": {
      "name": "python3",
      "display_name": "Python 3"
    },
    "language_info": {
      "name": "python"
    }
  },
  "cells": [
    {
      "cell_type": "markdown",
      "source": [
        "Lists/Sets"
      ],
      "metadata": {
        "id": "B2MDnAPvYXeB"
      }
    },
    {
      "cell_type": "markdown",
      "source": [
        "list methods"
      ],
      "metadata": {
        "id": "CM8XpreeZbsL"
      }
    },
    {
      "cell_type": "code",
      "execution_count": 7,
      "metadata": {
        "colab": {
          "base_uri": "https://localhost:8080/"
        },
        "id": "JklSd0M4yTuv",
        "outputId": "60878f2f-8774-452e-efe3-aa5f21bb86f7"
      },
      "outputs": [
        {
          "output_type": "stream",
          "name": "stdout",
          "text": [
            "7\n",
            "1\n",
            "2\n",
            "3\n",
            "4\n",
            "5\n",
            "6\n",
            "7\n",
            "[1, 2, 3, 4, 5, 6, 7, 1]\n",
            "[1, 10, 2, 3, 4, 5, 6, 7, 1]\n",
            "[1, 10, 2, 4, 5, 6, 7, 1]\n",
            "[1, 1, 2, 4, 5, 6, 7, 10]\n",
            "['a', 'b', 'f', 'w']\n"
          ]
        }
      ],
      "source": [
        "numbers = [1,2,3,4,5,6,7]\n",
        "numbers[1]\n",
        "\n",
        "print(len(numbers))\n",
        "for i in range(len(numbers)):\n",
        "    print(numbers[i])\n",
        "\n",
        "numbers.append(1)\n",
        "print(numbers)\n",
        "\n",
        "numbers.insert(1, 10)\n",
        "print(numbers)\n",
        "\n",
        "numbers.remove(3)\n",
        "print(numbers)\n",
        "\n",
        "numbers.sort()\n",
        "print(numbers)\n",
        "alphabet = ['f','b','w','a']\n",
        "alphabet.sort()\n",
        "print(alphabet)"
      ]
    },
    {
      "cell_type": "code",
      "source": [
        "evens = [n*2 for n in range(10)]\n",
        "print(evens)\n",
        "\n",
        "fourths = [n*2 for n in range(10) if n%2 == 0]\n",
        "print(fourths)"
      ],
      "metadata": {
        "colab": {
          "base_uri": "https://localhost:8080/"
        },
        "id": "0GgDJmluZepq",
        "outputId": "d3f39c91-110c-4841-e9d6-124df815cdd7"
      },
      "execution_count": 9,
      "outputs": [
        {
          "output_type": "stream",
          "name": "stdout",
          "text": [
            "[0, 2, 4, 6, 8, 10, 12, 14, 16, 18]\n",
            "[0, 4, 8, 12, 16]\n"
          ]
        }
      ]
    },
    {
      "cell_type": "code",
      "source": [
        "squared = [n**2 for n in range(10) if n%2 == 0]\n",
        "print(squared)"
      ],
      "metadata": {
        "colab": {
          "base_uri": "https://localhost:8080/"
        },
        "id": "ulHzL6LzZ95h",
        "outputId": "763dc09f-6b9f-4e0c-a85b-606afea75c3d"
      },
      "execution_count": 11,
      "outputs": [
        {
          "output_type": "stream",
          "name": "stdout",
          "text": [
            "[0, 4, 16, 36, 64]\n"
          ]
        }
      ]
    },
    {
      "cell_type": "code",
      "source": [
        "pets = {\"cat\", \"dog\"}\n",
        "pets.update([\"sheep\"])\n",
        "print(pets)\n"
      ],
      "metadata": {
        "colab": {
          "base_uri": "https://localhost:8080/"
        },
        "id": "S1LM1Ssjaai3",
        "outputId": "3bce48f0-c63e-45de-dfcb-1713fec7a7b2"
      },
      "execution_count": 13,
      "outputs": [
        {
          "output_type": "stream",
          "name": "stdout",
          "text": [
            "{'sheep', 'cat', 'dog'}\n"
          ]
        }
      ]
    },
    {
      "cell_type": "code",
      "source": [
        "dictionary = {\"name\" : \"john\", \"job\":\"plumber\"}\n",
        "print(dictionary[\"name\"])"
      ],
      "metadata": {
        "colab": {
          "base_uri": "https://localhost:8080/"
        },
        "id": "WWiWDaxbasC0",
        "outputId": "3bb0ada4-4042-4a2f-e81a-9418a1a3f861"
      },
      "execution_count": 14,
      "outputs": [
        {
          "output_type": "stream",
          "name": "stdout",
          "text": [
            "john\n"
          ]
        }
      ]
    },
    {
      "cell_type": "code",
      "source": [
        "def function(number):\n",
        "  return number*2\n",
        "\n",
        "print(function(4))"
      ],
      "metadata": {
        "colab": {
          "base_uri": "https://localhost:8080/"
        },
        "id": "cxUyRkkobLIn",
        "outputId": "7482c3a7-d58d-4782-be5a-8e7b0952b940"
      },
      "execution_count": 15,
      "outputs": [
        {
          "output_type": "stream",
          "name": "stdout",
          "text": [
            "8\n"
          ]
        }
      ]
    },
    {
      "cell_type": "markdown",
      "source": [
        "*args = variable amount of things\n",
        "**kwargs = can exist can not exist"
      ],
      "metadata": {
        "id": "SP3jXfLQb2WB"
      }
    },
    {
      "cell_type": "code",
      "source": [
        "def multiply(number1, number2, *list1, **negative):\n",
        "  number3 = number1*number2\n",
        "  if negative:\n",
        "    return number3*negative\n",
        "  else:\n",
        "    return number3\n",
        ""
      ],
      "metadata": {
        "id": "B7WF2P_BbnMP"
      },
      "execution_count": 18,
      "outputs": []
    },
    {
      "cell_type": "code",
      "source": [
        "def sort(array):\n",
        "  sorted = array.sort()\n",
        "  return sorted"
      ],
      "metadata": {
        "id": "XjCRZXhAce1m"
      },
      "execution_count": null,
      "outputs": []
    },
    {
      "cell_type": "code",
      "source": [
        "def create_palindrome(string):\n",
        "  newstring = string\n",
        "  for i in range(len(string)):\n",
        "    newstring = newstring + string[-(i+1)]\n",
        "  return newstring\n",
        "\n",
        "print(create_palindrome(\"abc\"))\n"
      ],
      "metadata": {
        "colab": {
          "base_uri": "https://localhost:8080/"
        },
        "id": "Er1Y3eSFcqoU",
        "outputId": "7ab3dadf-0d9f-4cdf-8a2e-7f64e9fd255d"
      },
      "execution_count": 22,
      "outputs": [
        {
          "output_type": "stream",
          "name": "stdout",
          "text": [
            "abccba\n"
          ]
        }
      ]
    },
    {
      "cell_type": "code",
      "source": [
        "def power(number1, number2):\n",
        "  return multiply(number1, nubmer2)\n",
        "\n"
      ],
      "metadata": {
        "id": "EkLtZMF9gZ0l"
      },
      "execution_count": null,
      "outputs": []
    },
    {
      "cell_type": "code",
      "source": [],
      "metadata": {
        "id": "7X_s2v9cgkAl"
      },
      "execution_count": null,
      "outputs": []
    },
    {
      "cell_type": "markdown",
      "source": [
        "Classes"
      ],
      "metadata": {
        "id": "l0KnQtVneOJH"
      }
    },
    {
      "cell_type": "code",
      "source": [
        "class Bank:\n",
        "  accounttype = \"savings\"\n",
        "  balance = 0\n",
        "  ownername = \"\"\n",
        "  def __init__(self, name, balance):\n",
        "    self.balance = balance\n",
        "    self.ownername = name\n",
        "\n",
        "  def deposit(self, amount):\n",
        "    self.balance += amount\n",
        "    return self.balance\n",
        "  def withdraw(self, amount):\n",
        "    self.balance -= amount\n",
        "    return self.balance\n",
        "\n",
        "\n",
        "\n",
        "acc = Bank(\"john\", 100)\n",
        "acc2 = Bank(\"jane\", 200)\n",
        "print(acc.ownername)\n",
        "print(acc2.ownername)\n",
        "acc.deposit(100)\n",
        "print(acc.balance)\n",
        "print(acc2.balance)\n",
        "acc2.deposit(100)\n",
        "print(acc.balance)\n",
        "print(acc2.balance)\n",
        "\n"
      ],
      "metadata": {
        "colab": {
          "base_uri": "https://localhost:8080/"
        },
        "id": "WbCMlL9WePbz",
        "outputId": "b3c9675f-5b61-41b6-f7c8-5f0dd7b8278f"
      },
      "execution_count": 40,
      "outputs": [
        {
          "output_type": "stream",
          "name": "stdout",
          "text": [
            "john\n",
            "jane\n",
            "200\n",
            "200\n",
            "200\n",
            "300\n"
          ]
        }
      ]
    },
    {
      "cell_type": "code",
      "source": [
        "class Savingsaccount(Bank):\n",
        "  def invest(self, amount):\n",
        "    interest = amount*1.05\n",
        "    return super().deposit(interest)\n",
        "  def withdraw(self, amount):\n",
        "    self.balance -= amount*2\n",
        "    return self.balance\n",
        "\n",
        "\n",
        "savings = Savingsaccount(\"mary\", 200)\n",
        "print(savings)\n",
        "savings.invest(100)\n",
        "print(savings.balance)\n",
        "savings.withdraw(100)\n",
        "print(savings.balance)\n",
        "\n",
        "class checkingaccount(Bank):\n",
        "  def withdraw(self,amount):\n",
        "    self.balance -= amount*0.5\n",
        "    return self.balance\n",
        "\n",
        "checking = checkingaccount(\"bob\", 300)\n",
        "checking.withdraw(100)\n",
        "print(checking.balance)"
      ],
      "metadata": {
        "colab": {
          "base_uri": "https://localhost:8080/"
        },
        "id": "fkuo3woago6y",
        "outputId": "819c3b55-e7fe-4747-89a8-aea1221fe9ed"
      },
      "execution_count": 36,
      "outputs": [
        {
          "output_type": "stream",
          "name": "stdout",
          "text": [
            "<__main__.Savingsaccount object at 0x7e5fb6932590>\n",
            "305.0\n",
            "105.0\n",
            "250.0\n"
          ]
        }
      ]
    },
    {
      "cell_type": "code",
      "source": [
        "class rectangle():\n",
        "  def __init__(self, length, width):\n",
        "    self.length = length\n",
        "    self.width = width\n",
        "  def area(self):\n",
        "    return self.length*self.width\n",
        "  def perimeter(self):\n",
        "    return 2*self.length+2*self.width\n",
        "\n",
        "myrectangle = rectangle(2,4)\n",
        "print(myrectangle.area())\n",
        "print(myrectangle.perimeter())\n"
      ],
      "metadata": {
        "colab": {
          "base_uri": "https://localhost:8080/"
        },
        "id": "tmV2FTGzhe59",
        "outputId": "add41f58-650b-4ba8-fbab-e112842e5169"
      },
      "execution_count": 34,
      "outputs": [
        {
          "output_type": "stream",
          "name": "stdout",
          "text": [
            "8\n",
            "12\n"
          ]
        }
      ]
    }
  ]
}