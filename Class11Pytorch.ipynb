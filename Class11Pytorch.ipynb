{
  "nbformat": 4,
  "nbformat_minor": 0,
  "metadata": {
    "colab": {
      "provenance": []
    },
    "kernelspec": {
      "name": "python3",
      "display_name": "Python 3"
    },
    "language_info": {
      "name": "python"
    }
  },
  "cells": [
    {
      "cell_type": "code",
      "execution_count": 1,
      "metadata": {
        "id": "i-cbDeR90gEI"
      },
      "outputs": [],
      "source": [
        "import torch, torch.nn as nn, torch.optim as optim"
      ]
    },
    {
      "cell_type": "code",
      "source": [
        "from torch.utils.data import DataLoader\n",
        "from torchvision import datasets, transforms"
      ],
      "metadata": {
        "id": "4_3O29Hj5iWc"
      },
      "execution_count": 2,
      "outputs": []
    },
    {
      "cell_type": "code",
      "source": [
        "device = 'cuda' if torch.cuda.is_available() else 'cpu'"
      ],
      "metadata": {
        "id": "aAXKI7Jg56lL"
      },
      "execution_count": 3,
      "outputs": []
    },
    {
      "cell_type": "code",
      "source": [
        "tensor =torch.tensor([1,2,3])\n",
        "print(tensor)\n"
      ],
      "metadata": {
        "colab": {
          "base_uri": "https://localhost:8080/"
        },
        "id": "qzbqGSr46YKX",
        "outputId": "127816f8-29f8-4c66-9d1c-04676cb7f653"
      },
      "execution_count": 4,
      "outputs": [
        {
          "output_type": "stream",
          "name": "stdout",
          "text": [
            "tensor([1, 2, 3])\n"
          ]
        }
      ]
    },
    {
      "cell_type": "code",
      "source": [
        "import numpy as np\n",
        "nparray = np.array([1,2,3,4,5,6])\n",
        "tensor = torch.from_numpy(nparray)\n",
        "print(tensor)\n",
        "tensor2 = tensor.reshape(2,3)\n",
        "print(tensor2)\n",
        "print(tensor2.shape)\n",
        "print(tensor2.size())\n"
      ],
      "metadata": {
        "colab": {
          "base_uri": "https://localhost:8080/"
        },
        "id": "kKBYYrJT6xcM",
        "outputId": "73281fe2-88ac-45b4-f8d0-b0bf185276dd"
      },
      "execution_count": 11,
      "outputs": [
        {
          "output_type": "stream",
          "name": "stdout",
          "text": [
            "tensor([1, 2, 3, 4, 5, 6])\n",
            "tensor([[1, 2, 3],\n",
            "        [4, 5, 6]])\n",
            "torch.Size([2, 3])\n",
            "torch.Size([2, 3])\n"
          ]
        }
      ]
    },
    {
      "cell_type": "code",
      "source": [
        "transform = transforms.Compose([\n",
        "    transforms.ToTensor(),\n",
        "    transforms.Normalize((0.1307,),(0.3081,))\n",
        "])\n",
        "train_ds = datasets.MNIST(\n",
        "    root = 'data',\n",
        "    train = True,\n",
        "    download = True,\n",
        "    transform = transform\n",
        ")\n",
        "test_ds = datasets.MNIST(\n",
        "    root = 'data',\n",
        "    train = False,\n",
        "    download = True,\n",
        "    transform = transform\n",
        ")"
      ],
      "metadata": {
        "colab": {
          "base_uri": "https://localhost:8080/"
        },
        "id": "8s_0TwYK7jSP",
        "outputId": "e88b6a54-96fe-47a1-9f08-6052de51923b"
      },
      "execution_count": 12,
      "outputs": [
        {
          "output_type": "stream",
          "name": "stderr",
          "text": [
            "100%|██████████| 9.91M/9.91M [00:01<00:00, 5.86MB/s]\n",
            "100%|██████████| 28.9k/28.9k [00:00<00:00, 155kB/s]\n",
            "100%|██████████| 1.65M/1.65M [00:01<00:00, 1.45MB/s]\n",
            "100%|██████████| 4.54k/4.54k [00:00<00:00, 6.47MB/s]\n"
          ]
        }
      ]
    },
    {
      "cell_type": "code",
      "source": [
        "train_loader = DataLoader(train_ds, batch_size = 64, shuffle = True)\n",
        "test_loader = DataLoader(test_ds, batch_size = 64, shuffle = False)"
      ],
      "metadata": {
        "id": "NuA3XquY8tSE"
      },
      "execution_count": 13,
      "outputs": []
    },
    {
      "cell_type": "code",
      "source": [
        "import matplotlib.pyplot as plt\n",
        "images, labels = next(iter(train_loader))\n",
        "print(images.size())\n",
        "images = images[:8].squeeze()\n",
        "fig, axes = plt.subplots(1,8,figsize=(12,2))\n",
        "for ax, img, lbl in zip(axes, images, labels):\n",
        "  ax.imshow(img, cmap = 'gray')\n",
        "  ax.set_title(lbl.item())\n",
        "  ax.axis('off')\n",
        "plt.show()\n",
        "\n"
      ],
      "metadata": {
        "colab": {
          "base_uri": "https://localhost:8080/",
          "height": 176
        },
        "id": "QOiIFQZj9fDS",
        "outputId": "5eb4ff25-bc3e-473b-c53a-af9877ca9b19"
      },
      "execution_count": 15,
      "outputs": [
        {
          "output_type": "stream",
          "name": "stdout",
          "text": [
            "torch.Size([64, 1, 28, 28])\n"
          ]
        },
        {
          "output_type": "display_data",
          "data": {
            "text/plain": [
              "<Figure size 1200x200 with 8 Axes>"
            ],
            "image/png": "[encoded data removed]"
          },
          "metadata": {}
        }
      ]
    },
    {
      "cell_type": "code",
      "source": [],
      "metadata": {
        "id": "miViT69H_7o-"
      },
      "execution_count": null,
      "outputs": []
    },
    {
      "cell_type": "code",
      "source": [
        "model = nn.Sequential(nn.Flatten(),nn.Linear(28*28,128), nn.ReLU(), nn.Linear(128,64), nn.ReLU(), nn.Linear(64,10)).to(device)"
      ],
      "metadata": {
        "id": "H_xENcs--dnZ"
      },
      "execution_count": 17,
      "outputs": []
    },
    {
      "cell_type": "code",
      "source": [
        "0    1    2\n",
        "0.1  0.1 0.8\n",
        "\n",
        "\n",
        "0    1   2\n",
        "0.0 0.0 1.0\n",
        "\n",
        "0.8"
      ],
      "metadata": {
        "id": "z6FNrkmRBGx8"
      },
      "execution_count": null,
      "outputs": []
    },
    {
      "cell_type": "code",
      "source": [],
      "metadata": {
        "id": "e57sPeMCCA7i"
      },
      "execution_count": null,
      "outputs": []
    },
    {
      "cell_type": "code",
      "source": [
        "criterion = nn.CrossEntropyLoss()\n",
        "optimizer = optim.SGD(model.parameters(), lr = 0.01)\n",
        "\n"
      ],
      "metadata": {
        "id": "uM2w5gkPAzng"
      },
      "execution_count": 18,
      "outputs": []
    },
    {
      "cell_type": "code",
      "source": [
        "def train_epoch(model, loader):\n",
        "  model.train()\n",
        "  running_loss = 0\n",
        "  for X,y in loader:\n",
        "    X,y = X.to(device),y.to(device)\n",
        "    optimizer.zero_grad()\n",
        "    pred = model(X)\n",
        "    loss = criterion(pred, y)\n",
        "    loss.backward()\n",
        "    optimizer.step()\n",
        "    running_loss += loss.item()*X.size(0)\n",
        "  return running_loss/len(loader.dataset)\n",
        "\n",
        "for epoch in range(5):\n",
        "  loss = train_epoch(model,train_loader)\n",
        "  print(f\"Epoch: {epoch+1}, Loss: {loss:.4f}\")\n",
        ""
      ],
      "metadata": {
        "colab": {
          "base_uri": "https://localhost:8080/"
        },
        "id": "r16lR-DAB_fl",
        "outputId": "0e516e84-2d6b-4701-ee7a-88f7dbb93f33"
      },
      "execution_count": 19,
      "outputs": [
        {
          "output_type": "stream",
          "name": "stdout",
          "text": [
            "Epoch: 1, Loss: 0.7920\n",
            "Epoch: 2, Loss: 0.3162\n",
            "Epoch: 3, Loss: 0.2576\n",
            "Epoch: 4, Loss: 0.2197\n",
            "Epoch: 5, Loss: 0.1911\n"
          ]
        }
      ]
    }
  ]
}